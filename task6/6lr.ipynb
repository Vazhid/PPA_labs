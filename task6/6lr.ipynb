{
 "cells": [
  {
   "cell_type": "code",
   "execution_count": 2,
   "id": "56b794ad",
   "metadata": {},
   "outputs": [
    {
     "name": "stdout",
     "output_type": "stream",
     "text": [
      "'nlp' extra dependency package 'gensim' isn't installed. Look at README.md in repo 'LightAutoML' for installation instructions.\n",
      "'nlp' extra dependency package 'nltk' isn't installed. Look at README.md in repo 'LightAutoML' for installation instructions.\n",
      "'nlp' extra dependency package 'transformers' isn't installed. Look at README.md in repo 'LightAutoML' for installation instructions.\n",
      "'nlp' extra dependency package 'gensim' isn't installed. Look at README.md in repo 'LightAutoML' for installation instructions.\n",
      "'nlp' extra dependency package 'nltk' isn't installed. Look at README.md in repo 'LightAutoML' for installation instructions.\n",
      "'nlp' extra dependency package 'transformers' isn't installed. Look at README.md in repo 'LightAutoML' for installation instructions.\n"
     ]
    }
   ],
   "source": [
    "import warnings\n",
    "warnings.filterwarnings('ignore')\n",
    "\n",
    "import time\n",
    "import random\n",
    "import pickle\n",
    "\n",
    "import numpy as np\n",
    "import pandas as pd\n",
    "import matplotlib.pyplot as plt\n",
    "import seaborn as sns\n",
    "from imblearn.under_sampling import RandomUnderSampler\n",
    "\n",
    "import torch\n",
    "import torch.nn as nn\n",
    "import torch.nn.functional as F\n",
    "from torch.utils.data import Dataset, DataLoader\n",
    "from torch.optim import AdamW\n",
    "from torch.optim.lr_scheduler import CosineAnnealingLR\n",
    "\n",
    "from sklearn.model_selection import train_test_split\n",
    "from sklearn.metrics import (\n",
    "    confusion_matrix,\n",
    "    multilabel_confusion_matrix,\n",
    "    accuracy_score,\n",
    "    f1_score, \n",
    "    precision_score, \n",
    "    recall_score\n",
    ")\n",
    "from sklearn.utils import shuffle\n",
    "\n",
    "from lightautoml.automl.presets.tabular_presets import TabularAutoML\n",
    "from lightautoml.tasks import Task\n",
    "\n",
    "from tpot import TPOTClassifier\n",
    "\n",
    "from fedot.api.main import Fedot\n",
    "\n",
    "import mlflow\n",
    "from mlflow.models import infer_signature"
   ]
  },
  {
   "cell_type": "code",
   "execution_count": 3,
   "id": "915bab4b",
   "metadata": {},
   "outputs": [],
   "source": [
    "import os"
   ]
  },
  {
   "cell_type": "markdown",
   "id": "b3d3ca30",
   "metadata": {},
   "source": [
    "## Пункт 1"
   ]
  },
  {
   "cell_type": "code",
   "execution_count": 4,
   "id": "7bf06a6d",
   "metadata": {},
   "outputs": [],
   "source": [
    "n = 100_000\n",
    "s = 10_000\n",
    "skip = sorted(random.sample(range(n), n - s))\n",
    "data = pd.read_csv('ecg_dataset.csv')\n",
    "train_size = int(0.8 * len(data))"
   ]
  },
  {
   "cell_type": "code",
   "execution_count": 5,
   "id": "80bd560f",
   "metadata": {},
   "outputs": [],
   "source": [
    "df_mitbih_train = data[:train_size]\n",
    "df_mitbih_test = data[train_size:]\n",
    "df_mitbih = pd.concat([df_mitbih_train, df_mitbih_test], axis=0)"
   ]
  },
  {
   "cell_type": "code",
   "execution_count": 6,
   "id": "7a246a07",
   "metadata": {},
   "outputs": [],
   "source": [
    "# Датасет размечен на 5 классов, в исходном датасете столбец №187 содержит номер класса\n",
    "df_mitbih.rename(columns={'label': 'class'}, inplace=True)\n",
    "\n",
    "df_mitbih_test.rename(columns={'label': 'class'}, inplace=True)\n",
    "df_mitbih_train.rename(columns={'label': 'class'}, inplace=True)"
   ]
  },
  {
   "cell_type": "code",
   "execution_count": 7,
   "id": "421cc269",
   "metadata": {},
   "outputs": [
    {
     "name": "stdout",
     "output_type": "stream",
     "text": [
      "<class 'pandas.core.frame.DataFrame'>\n",
      "RangeIndex: 100038 entries, 0 to 100037\n",
      "Columns: 189 entries, 0 to label\n",
      "dtypes: float64(187), int64(1), object(1)\n",
      "memory usage: 144.3+ MB\n",
      "None\n"
     ]
    }
   ],
   "source": [
    "id_to_label = {\n",
    "    0: 'Normal',     # Нормальный\n",
    "    1: 'Artial Premature', # Преждевременное сокращение сердца (экстрасистолия)\n",
    "    2: 'Premature ventricular contraction', # Преждевременное сокращение желудочков\n",
    "    3: 'Fusion of ventricular and normal',  # Cлияние желудочкового и нормального сердечного ритма\n",
    "    4: 'Fusion of paced and normal' # Cлияние стимулированного и нормального ритма\n",
    "}\n",
    "\n",
    "df_mitbih['label'] = df_mitbih.iloc[:, -1].map(id_to_label)\n",
    "df_mitbih_test['label'] = df_mitbih_test.iloc[:, -1].map(id_to_label)\n",
    "df_mitbih_train['label'] = df_mitbih_train.iloc[:, -1].map(id_to_label)\n",
    "\n",
    "print(df_mitbih.info())"
   ]
  },
  {
   "cell_type": "code",
   "execution_count": 8,
   "id": "2ab4b1d9",
   "metadata": {},
   "outputs": [],
   "source": [
    "df_mitbih_test = shuffle(df_mitbih_test)\n",
    "df_mitbih_train = shuffle(df_mitbih_train)\n",
    "\n",
    "df_mitbih_test = df_mitbih_test.reset_index(drop='True')\n",
    "df_mitbih_train = df_mitbih_train.reset_index(drop='True')"
   ]
  },
  {
   "cell_type": "code",
   "execution_count": 9,
   "id": "a128c040",
   "metadata": {},
   "outputs": [
    {
     "data": {
      "text/plain": [
       "0    873\n",
       "1    873\n",
       "2    873\n",
       "Name: class, dtype: int64"
      ]
     },
     "execution_count": 9,
     "metadata": {},
     "output_type": "execute_result"
    }
   ],
   "source": [
    "rus_method = RandomUnderSampler()\n",
    "\n",
    "df = df_mitbih_train\n",
    "df.columns = df.columns.astype(str)\n",
    "X_resampled, y_resampled = rus_method.fit_resample(df.loc[:, df.columns != 'class'], df['class'])\n",
    "\n",
    "new_df = pd.concat([X_resampled, y_resampled], axis=1)\n",
    "new_df = new_df.dropna()\n",
    "\n",
    "df = df_mitbih_test\n",
    "df.columns = df.columns.astype(str)\n",
    "X_resampled, y_resampled = rus_method.fit_resample(df.loc[:, df.columns != 'class'], df['class'])\n",
    "\n",
    "new_df_test = pd.concat([X_resampled, y_resampled], axis=1)\n",
    "new_df_test = new_df.dropna()\n",
    "\n",
    "new_df['class'].value_counts()"
   ]
  },
  {
   "cell_type": "code",
   "execution_count": 10,
   "id": "d9400cbe",
   "metadata": {},
   "outputs": [
    {
     "name": "stdout",
     "output_type": "stream",
     "text": [
      "2025-05-26 00:46:29,688 - Using categorical units to plot a list of strings that are all parsable as floats or dates. If these strings should be plotted as numbers, cast to the appropriate data type before plotting.\n",
      "2025-05-26 00:46:29,690 - Using categorical units to plot a list of strings that are all parsable as floats or dates. If these strings should be plotted as numbers, cast to the appropriate data type before plotting.\n"
     ]
    },
    {
     "data": {
      "image/png": "[encoded data removed]",
      "text/plain": [
       "<Figure size 432x288 with 1 Axes>"
      ]
     },
     "metadata": {
      "needs_background": "light"
     },
     "output_type": "display_data"
    }
   ],
   "source": [
    "plt.plot(df_mitbih_train.iloc[0][:-3], label=str(df_mitbih_train.iloc[0]['label']))\n",
    "plt.legend()\n",
    "plt.show()"
   ]
  },
  {
   "cell_type": "code",
   "execution_count": 11,
   "id": "177d6cb9",
   "metadata": {},
   "outputs": [
    {
     "data": {
      "text/plain": [
       "0        False\n",
       "1        False\n",
       "2        False\n",
       "3        False\n",
       "4        False\n",
       "         ...  \n",
       "80025    False\n",
       "80026    False\n",
       "80027    False\n",
       "80028    False\n",
       "80029    False\n",
       "Name: label, Length: 80030, dtype: bool"
      ]
     },
     "execution_count": 11,
     "metadata": {},
     "output_type": "execute_result"
    }
   ],
   "source": [
    "df_mitbih_train['label'] == 'Artial Premature'"
   ]
  },
  {
   "cell_type": "code",
   "execution_count": 12,
   "id": "d540b7f2",
   "metadata": {},
   "outputs": [
    {
     "name": "stdout",
     "output_type": "stream",
     "text": [
      "2025-05-26 00:46:34,040 - Using categorical units to plot a list of strings that are all parsable as floats or dates. If these strings should be plotted as numbers, cast to the appropriate data type before plotting.\n",
      "2025-05-26 00:46:34,044 - Using categorical units to plot a list of strings that are all parsable as floats or dates. If these strings should be plotted as numbers, cast to the appropriate data type before plotting.\n",
      "2025-05-26 00:46:34,047 - Using categorical units to plot a list of strings that are all parsable as floats or dates. If these strings should be plotted as numbers, cast to the appropriate data type before plotting.\n",
      "2025-05-26 00:46:34,048 - Using categorical units to plot a list of strings that are all parsable as floats or dates. If these strings should be plotted as numbers, cast to the appropriate data type before plotting.\n",
      "2025-05-26 00:46:34,050 - Using categorical units to plot a list of strings that are all parsable as floats or dates. If these strings should be plotted as numbers, cast to the appropriate data type before plotting.\n",
      "2025-05-26 00:46:34,051 - Using categorical units to plot a list of strings that are all parsable as floats or dates. If these strings should be plotted as numbers, cast to the appropriate data type before plotting.\n"
     ]
    },
    {
     "data": {
      "image/png": "[encoded data removed]",
      "text/plain": [
       "<Figure size 720x432 with 1 Axes>"
      ]
     },
     "metadata": {
      "needs_background": "light"
     },
     "output_type": "display_data"
    }
   ],
   "source": [
    "plt.figure(figsize=(10, 6))  # Задаем размер графика (опционально)\n",
    "\n",
    "# Рисуем три сигнала с разными метками\n",
    "plt.plot(df_mitbih_train.iloc[0][:-3], label=f\"Класс: {df_mitbih_train.iloc[0]['label']}\")\n",
    "plt.plot(df_mitbih_train.iloc[1][:-3], label=f\"Класс: {df_mitbih_train.iloc[80027]['label']}\")\n",
    "plt.plot(df_mitbih_train.iloc[2][:-3], label=f\"Класс: {df_mitbih_train.iloc[2]['label']}\")\n",
    "\n",
    "plt.title(\"Сравнение трех сигналов ЭКГ\")  # Заголовок\n",
    "plt.xlabel(\"Отсчеты времени\")            # Подпись оси X\n",
    "plt.ylabel(\"Амплитуда\")                  # Подпись оси Y\n",
    "plt.legend()                             # Показываем легенду\n",
    "plt.grid(True)                           # Включаем сетку (опционально)\n",
    "plt.show()"
   ]
  },
  {
   "cell_type": "markdown",
   "id": "eaad6f9a",
   "metadata": {},
   "source": [
    "## Пункт 2"
   ]
  },
  {
   "cell_type": "code",
   "execution_count": 13,
   "id": "be95621e",
   "metadata": {},
   "outputs": [],
   "source": [
    "class ECGDataset(Dataset):\n",
    "    def __init__(self, df):\n",
    "        self.df = df.reset_index(drop=True)\n",
    "        if 'label' in self.df.columns:\n",
    "            self.df = self.df.drop('label', axis=1)\n",
    "        \n",
    "        if 'class' not in self.df.columns:\n",
    "            raise ValueError(\"DataFrame должен содержать колонку 'class'\")\n",
    "            \n",
    "        self.data_columns = [col for col in self.df.columns if col != 'class']\n",
    "        \n",
    "    def __len__(self):\n",
    "        return len(self.df)\n",
    "        \n",
    "    def __getitem__(self, idx):\n",
    "        row = self.df.iloc[idx]\n",
    "        signal = row[self.data_columns].values.astype('float32')\n",
    "        signal = torch.FloatTensor(signal).unsqueeze(0)  # [1, 187]\n",
    "        \n",
    "        # Получаем целевой класс как скаляр\n",
    "        target = int(row['class'])  # Явное преобразование в int\n",
    "        return signal, torch.tensor(target, dtype=torch.long)  # 0D тензор"
   ]
  },
  {
   "cell_type": "code",
   "execution_count": 14,
   "id": "d834d2b1",
   "metadata": {},
   "outputs": [],
   "source": [
    "def get_dataloader(df, phase: str, batch_size: int = 96):\n",
    "    train_df, val_df = train_test_split(df, test_size=0.15, random_state=123, stratify=df['label'])\n",
    "    train_df, val_df = train_df.reset_index(drop=True), val_df.reset_index(drop=True)\n",
    "    \n",
    "    df = train_df if phase == 'train' else val_df\n",
    "    \n",
    "    dataset = ECGDataset(df)\n",
    "    dataloader = DataLoader(dataset=dataset, batch_size=batch_size, num_workers=0)\n",
    "    \n",
    "    # Добавляем проверку коллации\n",
    "    def collate_fn(batch):\n",
    "        data = [item[0] for item in batch]\n",
    "        targets = [item[1] for item in batch]\n",
    "        return torch.stack(data), torch.stack(targets)\n",
    "    \n",
    "    dataloader = DataLoader(\n",
    "        dataset=dataset, \n",
    "        batch_size=batch_size, \n",
    "        num_workers=0,\n",
    "        collate_fn=collate_fn\n",
    "    )\n",
    "    \n",
    "    return dataloader\n",
    "    \n",
    "    return dataloader"
   ]
  },
  {
   "cell_type": "code",
   "execution_count": 15,
   "id": "3fd351ed",
   "metadata": {},
   "outputs": [
    {
     "data": {
      "image/png": "[encoded data removed]",
      "text/plain": [
       "<Figure size 432x288 with 1 Axes>"
      ]
     },
     "metadata": {
      "needs_background": "light"
     },
     "output_type": "display_data"
    }
   ],
   "source": [
    "class Swish(nn.Module):\n",
    "    def forward(self, x):\n",
    "        return x * torch.sigmoid(x)\n",
    "\n",
    "x = torch.linspace(-10.0, 10.0, 100)\n",
    "swish = Swish()\n",
    "swish_out = swish(x)\n",
    "relu_out = torch.relu(x)\n",
    "\n",
    "plt.title('Swish function')\n",
    "plt.plot(x.numpy(), swish_out.numpy(), color='red', label='Swish')  # Красный для Swish\n",
    "plt.plot(x.numpy(), relu_out.numpy(), color='green', label='ReLU')  # Зелёный для ReLU\n",
    "plt.legend()\n",
    "plt.show()"
   ]
  },
  {
   "cell_type": "code",
   "execution_count": 16,
   "id": "d5797ebf",
   "metadata": {},
   "outputs": [],
   "source": [
    "class RNN(nn.Module):\n",
    "    def __init__(\n",
    "        self,\n",
    "        input_size,\n",
    "        hid_size,\n",
    "        num_rnn_layers=1,\n",
    "        dropout_p=0.2,\n",
    "        bidirectional=False,\n",
    "    ):\n",
    "        super().__init__()\n",
    "        self.rnn_layer = nn.LSTM(\n",
    "            input_size=input_size,\n",
    "            hidden_size=hid_size,\n",
    "            num_layers=num_rnn_layers,\n",
    "            dropout=dropout_p if num_rnn_layers > 1 else 0,\n",
    "            bidirectional=bidirectional,\n",
    "            batch_first=True,\n",
    "        )\n",
    "    \n",
    "    def forward(self, input):\n",
    "        outputs, hidden_states = self.rnn_layer(input)\n",
    "        return outputs, hidden_states"
   ]
  },
  {
   "cell_type": "code",
   "execution_count": 17,
   "id": "36aa27f3",
   "metadata": {},
   "outputs": [],
   "source": [
    "class ConvNormPool(nn.Module):\n",
    "    def __init__(\n",
    "        self,\n",
    "        input_size,\n",
    "        hidden_size,\n",
    "        kernel_size,\n",
    "        norm_type='bachnorm'\n",
    "    ):\n",
    "        super().__init__()\n",
    "\n",
    "        self.kernel_size = kernel_size\n",
    "        self.conv_1 = nn.Conv1d(\n",
    "            in_channels=input_size,\n",
    "            out_channels=hidden_size,\n",
    "            kernel_size=kernel_size\n",
    "        )\n",
    "        self.conv_2 = nn.Conv1d(\n",
    "            in_channels=hidden_size,\n",
    "            out_channels=hidden_size,\n",
    "            kernel_size=kernel_size\n",
    "        )\n",
    "        self.conv_3 = nn.Conv1d(\n",
    "            in_channels=hidden_size,\n",
    "            out_channels=hidden_size,\n",
    "            kernel_size=kernel_size\n",
    "        )\n",
    "        \n",
    "        self.swish_1 = Swish()\n",
    "        self.swish_2 = Swish()\n",
    "        self.swish_3 = Swish()\n",
    "        \n",
    "        if norm_type == 'group':\n",
    "            self.normalization_1 = nn.GroupNorm(\n",
    "                num_groups=8,\n",
    "                num_channels=hidden_size\n",
    "            )\n",
    "            self.normalization_2 = nn.GroupNorm(\n",
    "                num_groups=8,\n",
    "                num_channels=hidden_size\n",
    "            )\n",
    "            self.normalization_3 = nn.GroupNorm(\n",
    "                num_groups=8,\n",
    "                num_channels=hidden_size\n",
    "            )\n",
    "        else:\n",
    "            self.normalization_1 = nn.BatchNorm1d(num_features=hidden_size)\n",
    "            self.normalization_2 = nn.BatchNorm1d(num_features=hidden_size)\n",
    "            self.normalization_3 = nn.BatchNorm1d(num_features=hidden_size)\n",
    "\n",
    "        self.pool = nn.MaxPool1d(kernel_size=2)\n",
    "\n",
    "    def forward(self, input):\n",
    "        conv1 = self.conv_1(input)\n",
    "        x = self.normalization_1(conv1)\n",
    "        x = self.swish_1(x)\n",
    "        x = F.pad(x, pad=(self.kernel_size - 1, 0))\n",
    "\n",
    "        x = self.conv_2(x)\n",
    "        x = self.normalization_2(x)\n",
    "        x = self.swish_2(x)\n",
    "        x = F.pad(x, pad=(self.kernel_size - 1, 0))\n",
    "\n",
    "        conv3 = self.conv_3(x)\n",
    "        x = self.normalization_3(conv1+conv3)\n",
    "        x = self.swish_3(x)\n",
    "        x = F.pad(x, pad=(self.kernel_size - 1, 0))\n",
    "\n",
    "        x = self.pool(x)\n",
    "        return x"
   ]
  },
  {
   "cell_type": "code",
   "execution_count": 18,
   "id": "6f6076f9",
   "metadata": {},
   "outputs": [],
   "source": [
    "class RNNAttentionModel(nn.Module):\n",
    "    def __init__(\n",
    "        self,\n",
    "        input_size,\n",
    "        hid_size,\n",
    "        bidirectional,\n",
    "        n_classes=5,\n",
    "        kernel_size=5,\n",
    "    ):\n",
    "        super().__init__()\n",
    "\n",
    "        self.rnn_layer = RNN(\n",
    "            input_size=46,\n",
    "            hid_size=hid_size,\n",
    "            bidirectional=bidirectional\n",
    "        )\n",
    "        self.conv1 = ConvNormPool(\n",
    "            input_size=input_size,\n",
    "            hidden_size=hid_size,\n",
    "            kernel_size=kernel_size,\n",
    "        )\n",
    "        self.conv2 = ConvNormPool(\n",
    "            input_size=hid_size,\n",
    "            hidden_size=hid_size,\n",
    "            kernel_size=kernel_size,\n",
    "        )\n",
    "        self.avgpool = nn.AdaptiveMaxPool1d((1))\n",
    "        self.attn = nn.Linear(hid_size, hid_size, bias=False)\n",
    "        self.fc = nn.Linear(in_features=hid_size, out_features=n_classes)\n",
    "        \n",
    "    def forward(self, input):\n",
    "        x = self.conv1(input)\n",
    "        x = self.conv2(x)\n",
    "        x_out, hid_states = self.rnn_layer(x)\n",
    "        x = torch.cat([hid_states[0], hid_states[1]], dim=0).transpose(0, 1)\n",
    "        x_attn = torch.tanh(self.attn(x))\n",
    "        x = x_attn.bmm(x_out)\n",
    "        x = x.transpose(2, 1)\n",
    "        x = self.avgpool(x)\n",
    "        x = x.view(-1, x.size(1) * x.size(2))\n",
    "        x = F.softmax(self.fc(x), dim=-1)\n",
    "        return x"
   ]
  },
  {
   "cell_type": "code",
   "execution_count": 29,
   "id": "b0e7a903",
   "metadata": {},
   "outputs": [],
   "source": [
    "class Meter:\n",
    "    def __init__(self, n_classes=5):\n",
    "        self.metrics = {}\n",
    "        self.confusion = torch.zeros((n_classes, n_classes))\n",
    "\n",
    "    def update(self, x, y, loss):\n",
    "        x = np.argmax(x.detach().cpu().numpy(), axis=1)\n",
    "        y = y.detach().cpu().numpy()\n",
    "        \n",
    "        self.metrics['loss'] += loss\n",
    "        self.metrics['accuracy'] += accuracy_score(x,y)\n",
    "        self.metrics['f1'] += f1_score(x,y,average='macro')\n",
    "        self.metrics['precision'] += precision_score(x, y, average='macro', zero_division=1)\n",
    "        self.metrics['recall'] += recall_score(x,y, average='macro', zero_division=1)\n",
    "\n",
    "        self._compute_cm(x, y)\n",
    "\n",
    "    def _compute_cm(self, x, y):\n",
    "        for prob, target in zip(x, y):\n",
    "            if prob == target:\n",
    "                self.confusion[target][target] += 1\n",
    "            else:\n",
    "                self.confusion[target][prob] += 1\n",
    "\n",
    "    def init_metrics(self):\n",
    "        self.metrics['loss'] = 0\n",
    "        self.metrics['accuracy'] = 0\n",
    "        self.metrics['f1'] = 0\n",
    "        self.metrics['precision'] = 0\n",
    "        self.metrics['recall'] = 0\n",
    "\n",
    "    def get_metrics(self):\n",
    "        return self.metrics\n",
    "\n",
    "    def get_confusion_matrix(self):\n",
    "        return self.confusion\n",
    "     "
   ]
  },
  {
   "cell_type": "code",
   "execution_count": 20,
   "id": "7cad8854",
   "metadata": {},
   "outputs": [],
   "source": [
    "class Trainer:\n",
    "    def __init__(self, df, net, lr, batch_size, num_epochs):\n",
    "        self.num_epochs = num_epochs\n",
    "        self.criterion = nn.CrossEntropyLoss()\n",
    "        self.optimizer = AdamW(net.parameters(), lr=lr)\n",
    "        self.scheduler = CosineAnnealingLR(self.optimizer, T_max=num_epochs, eta_min=5e-6)\n",
    "        self.best_loss = float('inf')\n",
    "        self.phases = ['train', 'val']\n",
    "        self.dataloaders = {\n",
    "            phase: get_dataloader(df, phase, batch_size) for phase in self.phases\n",
    "        }\n",
    "        self.train_df_logs = pd.DataFrame()\n",
    "        self.val_df_logs = pd.DataFrame()\n",
    "        \n",
    "    def _train_epoch(self, phase, net):\n",
    "        print(f\"{phase} mode | time: {time.strftime('%H:%M:%S')}\")\n",
    "\n",
    "        net.train() if phase == 'train' else net.eval()\n",
    "        meter = Meter()\n",
    "        meter.init_metrics()\n",
    "\n",
    "        for i, (data, target) in enumerate(self.dataloaders[phase]):\n",
    "            device = 'cuda:0' if torch.cuda.is_available() else 'cpu'\n",
    "            data = data.to(device)\n",
    "            target = target.to(device)\n",
    "            \n",
    "            output = net(data)\n",
    "            loss = self.criterion(output, target)\n",
    "\n",
    "            if phase == 'train':\n",
    "                self.optimizer.zero_grad()\n",
    "                loss.backward()\n",
    "                self.optimizer.step()\n",
    "            \n",
    "            meter.update(output, target, loss.item())\n",
    "            \n",
    "        metrics = meter.get_metrics()\n",
    "        metrics = {k:v / i for k, v in metrics.items()}\n",
    "        df_logs = pd.DataFrame([metrics])\n",
    "        confusion_matrix = meter.get_confusion_matrix()\n",
    "\n",
    "        if phase == 'train':\n",
    "            self.train_df_logs = pd.concat([self.train_df_logs, df_logs], axis=0)\n",
    "        else:\n",
    "            self.val_df_logs = pd.concat([self.val_df_logs, df_logs], axis=0)\n",
    "\n",
    "        print(\n",
    "            '{}: {}, {}: {}, {}: {}, {}: {}, {}: {}'.format(*(x for kv in metrics.items() for x in kv))\n",
    "        )\n",
    "        fig, ax = plt.subplots(figsize=(5, 5))\n",
    "        cm_ = ax.imshow(confusion_matrix, cmap='hot')\n",
    "        ax.set_title('Confusion matrix', fontsize=15)\n",
    "        ax.set_xlabel('Actual', fontsize=13)\n",
    "        ax.set_ylabel('Predicted', fontsize=13)\n",
    "        plt.colorbar(cm_)\n",
    "        plt.show()\n",
    "\n",
    "        return loss\n",
    "    \n",
    "    def run(self, net):\n",
    "        for epoch in range(self.num_epochs):\n",
    "            self._train_epoch(phase='train',net=net)\n",
    "            with torch.no_grad():\n",
    "                val_loss = self._train_epoch(phase='val',net=net)\n",
    "                self.scheduler.step()\n",
    "\n",
    "            if val_loss < self.best_loss:\n",
    "                self.best_loss = val_loss\n",
    "                print('\\nNew checkpoint\\n')\n",
    "                self.best_loss = val_loss\n",
    "                os.makedirs(\"./models\", exist_ok=True)\n",
    "                torch.save(net.state_dict(), f\"./models/best_model_epoc{epoch}.pth\")"
   ]
  },
  {
   "cell_type": "code",
   "execution_count": 30,
   "id": "955eb88a",
   "metadata": {},
   "outputs": [],
   "source": [
    "model = RNNAttentionModel(1, 64, bidirectional=False)\n"
   ]
  },
  {
   "cell_type": "code",
   "execution_count": 24,
   "id": "b67c5038",
   "metadata": {},
   "outputs": [],
   "source": [
    "torch.save(model.state_dict(), 'rnn_attention_model.pth')"
   ]
  },
  {
   "cell_type": "markdown",
   "id": "8101ffd5",
   "metadata": {},
   "source": [
    "## Пункт 3"
   ]
  },
  {
   "cell_type": "code",
   "execution_count": 31,
   "id": "c11bff78",
   "metadata": {},
   "outputs": [
    {
     "name": "stdout",
     "output_type": "stream",
     "text": [
      "train mode | time: 00:52:15\n",
      "loss: 1.3318938323621, accuracy: 0.5770786516853936, f1: 0.47985999643303046, precision: 0.627740324594257, recall: 0.6812078651685398\n"
     ]
    },
    {
     "data": {
      "image/png": "[encoded data removed]",
      "text/plain": [
       "<Figure size 360x360 with 2 Axes>"
      ]
     },
     "metadata": {
      "needs_background": "light"
     },
     "output_type": "display_data"
    },
    {
     "name": "stdout",
     "output_type": "stream",
     "text": [
      "val mode | time: 00:52:22\n",
      "loss: 1.2457019251126509, accuracy: 0.6846153846153845, f1: 0.5959147334147336, precision: 0.724358974358974, recall: 0.7810541310541308\n"
     ]
    },
    {
     "data": {
      "image/png": "[encoded data removed]",
      "text/plain": [
       "<Figure size 360x360 with 2 Axes>"
      ]
     },
     "metadata": {
      "needs_background": "light"
     },
     "output_type": "display_data"
    },
    {
     "name": "stdout",
     "output_type": "stream",
     "text": [
      "\n",
      "New checkpoint\n",
      "\n",
      "train mode | time: 00:52:23\n",
      "loss: 1.2248764172028959, accuracy: 0.6849438202247212, f1: 0.5936668450151593, precision: 0.7125905118601732, recall: 0.7609612983770291\n"
     ]
    },
    {
     "data": {
      "image/png": "[encoded data removed]",
      "text/plain": [
       "<Figure size 360x360 with 2 Axes>"
      ]
     },
     "metadata": {
      "needs_background": "light"
     },
     "output_type": "display_data"
    },
    {
     "name": "stdout",
     "output_type": "stream",
     "text": [
      "val mode | time: 00:52:29\n",
      "loss: 1.213978308897752, accuracy: 0.7128205128205126, f1: 0.6147842897842898, precision: 0.7418091168091168, recall: 0.7459401709401706\n"
     ]
    },
    {
     "data": {
      "image/png": "[encoded data removed]",
      "text/plain": [
       "<Figure size 360x360 with 2 Axes>"
      ]
     },
     "metadata": {
      "needs_background": "light"
     },
     "output_type": "display_data"
    },
    {
     "name": "stdout",
     "output_type": "stream",
     "text": [
      "\n",
      "New checkpoint\n",
      "\n",
      "train mode | time: 00:52:30\n",
      "loss: 1.1445397185475639, accuracy: 0.7622471910112381, f1: 0.6847306937756371, precision: 0.7818789013732825, recall: 0.7949438202247192\n"
     ]
    },
    {
     "data": {
      "image/png": "[encoded data removed]",
      "text/plain": [
       "<Figure size 360x360 with 2 Axes>"
      ]
     },
     "metadata": {
      "needs_background": "light"
     },
     "output_type": "display_data"
    },
    {
     "name": "stdout",
     "output_type": "stream",
     "text": [
      "val mode | time: 00:52:37\n",
      "loss: 1.2045404865191534, accuracy: 0.7230769230769227, f1: 0.6286426536426538, precision: 0.7462606837606837, recall: 0.7550925925925923\n"
     ]
    },
    {
     "data": {
      "image/png": "[encoded data removed]",
      "text/plain": [
       "<Figure size 360x360 with 2 Axes>"
      ]
     },
     "metadata": {
      "needs_background": "light"
     },
     "output_type": "display_data"
    },
    {
     "name": "stdout",
     "output_type": "stream",
     "text": [
      "train mode | time: 00:52:37\n",
      "loss: 1.1212790297658255, accuracy: 0.7878651685393291, f1: 0.7160576065632235, precision: 0.8032084893882642, recall: 0.8131647940074905\n"
     ]
    },
    {
     "data": {
      "image/png": "[encoded data removed]",
      "text/plain": [
       "<Figure size 360x360 with 2 Axes>"
      ]
     },
     "metadata": {
      "needs_background": "light"
     },
     "output_type": "display_data"
    },
    {
     "name": "stdout",
     "output_type": "stream",
     "text": [
      "val mode | time: 00:52:44\n",
      "loss: 1.1708707840014727, accuracy: 0.7564102564102558, f1: 0.6728530728530729, precision: 0.7795584045584044, recall: 0.7988247863247862\n"
     ]
    },
    {
     "data": {
      "image/png": "[encoded data removed]",
      "text/plain": [
       "<Figure size 360x360 with 2 Axes>"
      ]
     },
     "metadata": {
      "needs_background": "light"
     },
     "output_type": "display_data"
    },
    {
     "name": "stdout",
     "output_type": "stream",
     "text": [
      "\n",
      "New checkpoint\n",
      "\n"
     ]
    }
   ],
   "source": [
    "trainer = Trainer(df=new_df, net=model, lr=1e-3, batch_size=5, num_epochs=4)\n",
    "trainer.run(net=model)"
   ]
  },
  {
   "cell_type": "code",
   "execution_count": 132,
   "id": "a5d23190",
   "metadata": {},
   "outputs": [
    {
     "data": {
      "text/html": [
       "<div>\n",
       "<style scoped>\n",
       "    .dataframe tbody tr th:only-of-type {\n",
       "        vertical-align: middle;\n",
       "    }\n",
       "\n",
       "    .dataframe tbody tr th {\n",
       "        vertical-align: top;\n",
       "    }\n",
       "\n",
       "    .dataframe thead th {\n",
       "        text-align: right;\n",
       "    }\n",
       "</style>\n",
       "<table border=\"1\" class=\"dataframe\">\n",
       "  <thead>\n",
       "    <tr style=\"text-align: right;\">\n",
       "      <th></th>\n",
       "      <th>train_loss</th>\n",
       "      <th>val_loss</th>\n",
       "      <th>train_accuracy</th>\n",
       "      <th>val_accuracy</th>\n",
       "      <th>train_f1</th>\n",
       "      <th>val_f1</th>\n",
       "      <th>train_precision</th>\n",
       "      <th>val_precision</th>\n",
       "      <th>train_recall</th>\n",
       "      <th>val_recall</th>\n",
       "    </tr>\n",
       "  </thead>\n",
       "  <tbody>\n",
       "    <tr>\n",
       "      <th>0</th>\n",
       "      <td>0.965555</td>\n",
       "      <td>0.996048</td>\n",
       "      <td>0.944270</td>\n",
       "      <td>0.933333</td>\n",
       "      <td>0.924551</td>\n",
       "      <td>0.903022</td>\n",
       "      <td>0.947516</td>\n",
       "      <td>0.933939</td>\n",
       "      <td>0.947553</td>\n",
       "      <td>0.943376</td>\n",
       "    </tr>\n",
       "    <tr>\n",
       "      <th>1</th>\n",
       "      <td>0.965921</td>\n",
       "      <td>0.991194</td>\n",
       "      <td>0.945169</td>\n",
       "      <td>0.941026</td>\n",
       "      <td>0.918620</td>\n",
       "      <td>0.919017</td>\n",
       "      <td>0.947591</td>\n",
       "      <td>0.944444</td>\n",
       "      <td>0.947266</td>\n",
       "      <td>0.954060</td>\n",
       "    </tr>\n",
       "    <tr>\n",
       "      <th>2</th>\n",
       "      <td>0.954483</td>\n",
       "      <td>0.995055</td>\n",
       "      <td>0.955955</td>\n",
       "      <td>0.935897</td>\n",
       "      <td>0.935073</td>\n",
       "      <td>0.900020</td>\n",
       "      <td>0.958645</td>\n",
       "      <td>0.939815</td>\n",
       "      <td>0.959507</td>\n",
       "      <td>0.941239</td>\n",
       "    </tr>\n",
       "    <tr>\n",
       "      <th>3</th>\n",
       "      <td>0.952852</td>\n",
       "      <td>1.001750</td>\n",
       "      <td>0.956404</td>\n",
       "      <td>0.923077</td>\n",
       "      <td>0.939076</td>\n",
       "      <td>0.889947</td>\n",
       "      <td>0.960605</td>\n",
       "      <td>0.928063</td>\n",
       "      <td>0.959738</td>\n",
       "      <td>0.934829</td>\n",
       "    </tr>\n",
       "    <tr>\n",
       "      <th>4</th>\n",
       "      <td>0.950336</td>\n",
       "      <td>0.990391</td>\n",
       "      <td>0.960449</td>\n",
       "      <td>0.938462</td>\n",
       "      <td>0.943364</td>\n",
       "      <td>0.912281</td>\n",
       "      <td>0.964164</td>\n",
       "      <td>0.939103</td>\n",
       "      <td>0.962859</td>\n",
       "      <td>0.953704</td>\n",
       "    </tr>\n",
       "  </tbody>\n",
       "</table>\n",
       "</div>"
      ],
      "text/plain": [
       "   train_loss  val_loss  train_accuracy  val_accuracy  train_f1    val_f1  \\\n",
       "0    0.965555  0.996048        0.944270      0.933333  0.924551  0.903022   \n",
       "1    0.965921  0.991194        0.945169      0.941026  0.918620  0.919017   \n",
       "2    0.954483  0.995055        0.955955      0.935897  0.935073  0.900020   \n",
       "3    0.952852  1.001750        0.956404      0.923077  0.939076  0.889947   \n",
       "4    0.950336  0.990391        0.960449      0.938462  0.943364  0.912281   \n",
       "\n",
       "   train_precision  val_precision  train_recall  val_recall  \n",
       "0         0.947516       0.933939      0.947553    0.943376  \n",
       "1         0.947591       0.944444      0.947266    0.954060  \n",
       "2         0.958645       0.939815      0.959507    0.941239  \n",
       "3         0.960605       0.928063      0.959738    0.934829  \n",
       "4         0.964164       0.939103      0.962859    0.953704  "
      ]
     },
     "execution_count": 132,
     "metadata": {},
     "output_type": "execute_result"
    }
   ],
   "source": [
    "train_logs = []\n",
    "val_logs = []\n",
    "\n",
    "train_logs = trainer.train_df_logs\n",
    "train_logs.columns = ['train_' + colname for colname in train_logs.columns]\n",
    "val_logs = trainer.val_df_logs\n",
    "val_logs.columns = ['val_' + colname for colname in val_logs.columns]\n",
    "\n",
    "logs = pd.concat([train_logs, val_logs], axis=1)\n",
    "logs.reset_index(drop=True, inplace=True)\n",
    "logs = logs.loc[:, [\n",
    "    'train_loss', 'val_loss',\n",
    "    'train_accuracy', 'val_accuracy',\n",
    "    'train_f1', 'val_f1',\n",
    "    'train_precision', 'val_precision',\n",
    "    'train_recall', 'val_recall']\n",
    "]\n",
    "logs.head()"
   ]
  },
  {
   "cell_type": "code",
   "execution_count": 133,
   "id": "2d3623e3",
   "metadata": {},
   "outputs": [
    {
     "data": {
      "image/png": "[encoded data removed]",
      "text/plain": [
       "<Figure size 432x288 with 1 Axes>"
      ]
     },
     "metadata": {
      "needs_background": "light"
     },
     "output_type": "display_data"
    }
   ],
   "source": [
    "plt.plot(logs['train_accuracy'], label='train_accuracy')\n",
    "plt.plot(logs['val_accuracy'], label='val_accuracy' )\n",
    "plt.legend()\n",
    "plt.show()"
   ]
  },
  {
   "cell_type": "code",
   "execution_count": 123,
   "id": "b294617c",
   "metadata": {},
   "outputs": [],
   "source": [
    "def make_test_stage(dataloader, model, probs=False):\n",
    "    cls_predictions = []\n",
    "    cls_ground_truths = []\n",
    "\n",
    "    for i, (data, cls_target) in enumerate(dataloader):\n",
    "        with torch.no_grad():\n",
    "            device = 'cuda:0' if torch.cuda.is_available() else 'cpu'\n",
    "            data = data.to(device)\n",
    "            cls_target = cls_target.cpu()\n",
    "            cls_prediction = model(data)\n",
    "\n",
    "            if not probs:\n",
    "                cls_prediction = torch.argmax(cls_prediction, dim=1)\n",
    "\n",
    "            cls_predictions.append(cls_prediction.detach().cpu())\n",
    "            cls_ground_truths.append(cls_target)\n",
    "\n",
    "    predictions_cls = torch.cat(cls_predictions).numpy()\n",
    "    ground_truths_cls = torch.cat(cls_ground_truths).numpy()\n",
    "    \n",
    "    return predictions_cls, ground_truths_cls"
   ]
  },
  {
   "cell_type": "code",
   "execution_count": 124,
   "id": "6d5edd6e",
   "metadata": {},
   "outputs": [],
   "source": [
    "test_dataset = ECGDataset(df_mitbih_test)\n",
    "test_dataloader = DataLoader(dataset=test_dataset, batch_size=32, num_workers=0, shuffle=False)"
   ]
  },
  {
   "cell_type": "code",
   "execution_count": 125,
   "id": "47d2ca64",
   "metadata": {},
   "outputs": [
    {
     "data": {
      "text/plain": [
       "Normal                               16398\n",
       "Premature ventricular contraction     1937\n",
       "Artial Premature                      1673\n",
       "Name: label, dtype: int64"
      ]
     },
     "execution_count": 125,
     "metadata": {},
     "output_type": "execute_result"
    }
   ],
   "source": [
    "df_mitbih_test['label'].value_counts()"
   ]
  },
  {
   "cell_type": "code",
   "execution_count": 126,
   "id": "bead8746",
   "metadata": {},
   "outputs": [
    {
     "data": {
      "text/plain": [
       "((20008,), (20008,))"
      ]
     },
     "execution_count": 126,
     "metadata": {},
     "output_type": "execute_result"
    }
   ],
   "source": [
    "y_pred, y_true = make_test_stage(test_dataloader, model)\n",
    "y_pred.shape, y_true.shape"
   ]
  },
  {
   "cell_type": "code",
   "execution_count": 127,
   "id": "759690f3",
   "metadata": {},
   "outputs": [],
   "source": [
    "def print_cm(y_true, y_pred):\n",
    "    cm = confusion_matrix(y_true, y_pred)\n",
    "\n",
    "    plt.figure(figsize=(8, 6))\n",
    "    fig, ax = plt.subplots() \n",
    "\n",
    "    sns.heatmap(\n",
    "        cm, \n",
    "        annot=True, \n",
    "        fmt='d', \n",
    "        xticklabels=df['label'].unique(),\n",
    "        yticklabels=df['label'].unique(),\n",
    "        cmap='Oranges'\n",
    "    )\n",
    "\n",
    "    ax.set_xticklabels(ax.get_xticklabels(), rotation=60)\n",
    "    plt.title('Confusion Matrix')\n",
    "    plt.xlabel('Predicted')\n",
    "    plt.ylabel('True')\n",
    "    plt.show()"
   ]
  },
  {
   "cell_type": "code",
   "execution_count": 128,
   "id": "fa0ac030",
   "metadata": {},
   "outputs": [
    {
     "data": {
      "text/plain": [
       "<Figure size 576x432 with 0 Axes>"
      ]
     },
     "metadata": {},
     "output_type": "display_data"
    },
    {
     "data": {
      "image/png": "[encoded data removed]",
      "text/plain": [
       "<Figure size 432x288 with 2 Axes>"
      ]
     },
     "metadata": {
      "needs_background": "light"
     },
     "output_type": "display_data"
    }
   ],
   "source": [
    "print_cm(y_true, y_pred)"
   ]
  },
  {
   "cell_type": "code",
   "execution_count": 129,
   "id": "d7b9b66b",
   "metadata": {},
   "outputs": [
    {
     "name": "stdout",
     "output_type": "stream",
     "text": [
      "Accuracy для тестовых данных: 0.7891843262694922\n"
     ]
    }
   ],
   "source": [
    "\n",
    "print(f'Accuracy для тестовых данных: {accuracy_score(y_true, y_pred)}')"
   ]
  },
  {
   "cell_type": "markdown",
   "id": "4040df6a",
   "metadata": {},
   "source": [
    "## Пункт 4"
   ]
  },
  {
   "cell_type": "code",
   "execution_count": 135,
   "id": "e281cb90",
   "metadata": {},
   "outputs": [
    {
     "data": {
      "text/plain": [
       "0    873\n",
       "1    873\n",
       "2    873\n",
       "Name: class, dtype: int64"
      ]
     },
     "execution_count": 135,
     "metadata": {},
     "output_type": "execute_result"
    }
   ],
   "source": [
    "new_df['class'].value_counts()"
   ]
  },
  {
   "cell_type": "code",
   "execution_count": 136,
   "id": "3961d456",
   "metadata": {},
   "outputs": [
    {
     "data": {
      "text/plain": [
       "0    200\n",
       "1    200\n",
       "2    200\n",
       "Name: class, dtype: int64"
      ]
     },
     "execution_count": 136,
     "metadata": {},
     "output_type": "execute_result"
    }
   ],
   "source": [
    "dfs = []\n",
    "for i in range(5):\n",
    "    dfs.append(new_df[new_df['class'] == i].tail(200))\n",
    "\n",
    "new_short_df = pd.concat(dfs, axis=0)\n",
    "new_short_df['class'].value_counts()"
   ]
  },
  {
   "cell_type": "code",
   "execution_count": 137,
   "id": "72c25564",
   "metadata": {},
   "outputs": [
    {
     "name": "stdout",
     "output_type": "stream",
     "text": [
      "[23:04:33] Stdout logging level is INFO.\n",
      "[23:04:33] Copying TaskTimer may affect the parent PipelineTimer, so copy will create new unlimited TaskTimer\n",
      "[23:04:33] Task: multiclass\n",
      "\n",
      "[23:04:33] Start automl preset with listed constraints:\n",
      "[23:04:33] - time: 300.00 seconds\n",
      "[23:04:33] - CPU: 1 cores\n",
      "[23:04:33] - memory: 2 GB\n",
      "\n",
      "[23:04:33] \u001b[1mTrain data shape: (2619, 188)\u001b[0m\n",
      "\n",
      "[23:04:35] Layer \u001b[1m1\u001b[0m train process start. Time left 298.11 secs\n",
      "[23:04:57] \u001b[1mSelector_LightGBM\u001b[0m fitting and predicting completed\n",
      "[23:04:57] Start fitting \u001b[1mLvl_0_Pipe_0_Mod_0_LightGBM\u001b[0m ...\n",
      "[23:05:49] Fitting \u001b[1mLvl_0_Pipe_0_Mod_0_LightGBM\u001b[0m finished. score = \u001b[1m-0.24803507003413522\u001b[0m\n",
      "[23:05:49] \u001b[1mLvl_0_Pipe_0_Mod_0_LightGBM\u001b[0m fitting and predicting completed\n",
      "[23:05:49] Start fitting \u001b[1mLvl_0_Pipe_0_Mod_1_CatBoost\u001b[0m ...\n",
      "[23:06:20] Fitting \u001b[1mLvl_0_Pipe_0_Mod_1_CatBoost\u001b[0m finished. score = \u001b[1m-0.23097103039366784\u001b[0m\n",
      "[23:06:20] \u001b[1mLvl_0_Pipe_0_Mod_1_CatBoost\u001b[0m fitting and predicting completed\n",
      "[23:06:20] Time left 192.67 secs\n",
      "\n",
      "[23:06:20] \u001b[1mLayer 1 training completed.\u001b[0m\n",
      "\n",
      "[23:06:20] Blending: optimization starts with equal weights. Score = \u001b[1m-0.2320884\u001b[0m\n",
      "[23:06:20] Blending: iteration \u001b[1m0\u001b[0m: score = \u001b[1m-0.2294001\u001b[0m, weights = \u001b[1m[0.1869977 0.8130023]\u001b[0m\n",
      "[23:06:20] Blending: no improvements for score. Terminated.\n",
      "\n",
      "[23:06:20] Blending: best score = \u001b[1m-0.2294001\u001b[0m, best weights = \u001b[1m[0.1869977 0.8130023]\u001b[0m\n",
      "[23:06:20] \u001b[1mAutoml preset training completed in 107.38 seconds\u001b[0m\n",
      "\n",
      "[23:06:20] Model description:\n",
      "Final prediction for new objects (level 0) = \n",
      "\t 0.18700 * (3 averaged models Lvl_0_Pipe_0_Mod_0_LightGBM) +\n",
      "\t 0.81300 * (3 averaged models Lvl_0_Pipe_0_Mod_1_CatBoost) \n",
      "\n"
     ]
    }
   ],
   "source": [
    "\n",
    "new_df_train = new_df.drop('label', axis=1)\n",
    "automl = TabularAutoML(\n",
    "    task=Task('multiclass'),\n",
    "    timeout=300,\n",
    "    reader_params={'cv': 3, 'random_state': 0},\n",
    "    general_params={\n",
    "        'use_algos': [['lgb', 'cb']],\n",
    "        'default_algos': ['lgb', 'cb']\n",
    "    },\n",
    "    memory_limit=2,\n",
    "    cpu_limit=1\n",
    ")\n",
    "\n",
    "predictions = automl.fit_predict(new_df_train, roles={'target': 'class'}, verbose=1).data"
   ]
  },
  {
   "cell_type": "code",
   "execution_count": 138,
   "id": "aabe8b21",
   "metadata": {},
   "outputs": [],
   "source": [
    "\n",
    "new_df_test = new_df_test.dropna()\n",
    "new_df_test = new_df_test.drop('label', axis=1)\n",
    "\n",
    "test_predictions = automl.predict(new_df_test).data"
   ]
  },
  {
   "cell_type": "code",
   "execution_count": 139,
   "id": "0b776587",
   "metadata": {},
   "outputs": [],
   "source": [
    "predictions_classes = np.argmax(predictions, axis=1)\n",
    "test_predictions_classes = np.argmax(test_predictions, axis=1)\n",
    "train_classes = new_df_train['class']\n",
    "test_classes = new_df_train['class']"
   ]
  },
  {
   "cell_type": "code",
   "execution_count": 140,
   "id": "1464ab97",
   "metadata": {},
   "outputs": [
    {
     "data": {
      "text/plain": [
       "('Accuracy train data: 0.9148529973272241',\n",
       " 'Accuracy test data: 0.9996181748759069')"
      ]
     },
     "execution_count": 140,
     "metadata": {},
     "output_type": "execute_result"
    }
   ],
   "source": [
    "(\n",
    "    f'Accuracy train data: {accuracy_score(train_classes, predictions_classes)}',\n",
    "    f'Accuracy test data: {accuracy_score(test_classes, test_predictions_classes)}'\n",
    ")"
   ]
  },
  {
   "cell_type": "code",
   "execution_count": 141,
   "id": "b8137428",
   "metadata": {},
   "outputs": [
    {
     "name": "stdout",
     "output_type": "stream",
     "text": [
      "[[[1745    1]\n",
      "  [   0  873]]\n",
      "\n",
      " [[1746    0]\n",
      "  [   0  873]]\n",
      "\n",
      " [[1746    0]\n",
      "  [   1  872]]]\n"
     ]
    }
   ],
   "source": [
    "print(multilabel_confusion_matrix(test_classes, test_predictions_classes))"
   ]
  },
  {
   "cell_type": "code",
   "execution_count": 142,
   "id": "6767b1de",
   "metadata": {},
   "outputs": [
    {
     "data": {
      "text/plain": [
       "<Figure size 576x432 with 0 Axes>"
      ]
     },
     "metadata": {},
     "output_type": "display_data"
    },
    {
     "data": {
      "image/png": "[encoded data removed]",
      "text/plain": [
       "<Figure size 432x288 with 2 Axes>"
      ]
     },
     "metadata": {
      "needs_background": "light"
     },
     "output_type": "display_data"
    }
   ],
   "source": [
    "print_cm(test_classes, test_predictions_classes)"
   ]
  },
  {
   "cell_type": "code",
   "execution_count": 143,
   "id": "a78bfdb0",
   "metadata": {},
   "outputs": [],
   "source": [
    "X_train = new_df_train.iloc[:, new_df_train.columns != 'class'].values\n",
    "y_train = new_df_train.iloc[:, new_df_train.columns == 'class'].values.reshape(-1)"
   ]
  },
  {
   "cell_type": "code",
   "execution_count": 144,
   "id": "108476b0",
   "metadata": {},
   "outputs": [
    {
     "name": "stderr",
     "output_type": "stream",
     "text": [
      "Version 0.12.1 of tpot is outdated. Version 1.0.0 was released Wednesday February 26, 2025.\n"
     ]
    },
    {
     "data": {
      "text/html": [
       "<style>#sk-container-id-1 {color: black;background-color: white;}#sk-container-id-1 pre{padding: 0;}#sk-container-id-1 div.sk-toggleable {background-color: white;}#sk-container-id-1 label.sk-toggleable__label {cursor: pointer;display: block;width: 100%;margin-bottom: 0;padding: 0.3em;box-sizing: border-box;text-align: center;}#sk-container-id-1 label.sk-toggleable__label-arrow:before {content: \"▸\";float: left;margin-right: 0.25em;color: #696969;}#sk-container-id-1 label.sk-toggleable__label-arrow:hover:before {color: black;}#sk-container-id-1 div.sk-estimator:hover label.sk-toggleable__label-arrow:before {color: black;}#sk-container-id-1 div.sk-toggleable__content {max-height: 0;max-width: 0;overflow: hidden;text-align: left;background-color: #f0f8ff;}#sk-container-id-1 div.sk-toggleable__content pre {margin: 0.2em;color: black;border-radius: 0.25em;background-color: #f0f8ff;}#sk-container-id-1 input.sk-toggleable__control:checked~div.sk-toggleable__content {max-height: 200px;max-width: 100%;overflow: auto;}#sk-container-id-1 input.sk-toggleable__control:checked~label.sk-toggleable__label-arrow:before {content: \"▾\";}#sk-container-id-1 div.sk-estimator input.sk-toggleable__control:checked~label.sk-toggleable__label {background-color: #d4ebff;}#sk-container-id-1 div.sk-label input.sk-toggleable__control:checked~label.sk-toggleable__label {background-color: #d4ebff;}#sk-container-id-1 input.sk-hidden--visually {border: 0;clip: rect(1px 1px 1px 1px);clip: rect(1px, 1px, 1px, 1px);height: 1px;margin: -1px;overflow: hidden;padding: 0;position: absolute;width: 1px;}#sk-container-id-1 div.sk-estimator {font-family: monospace;background-color: #f0f8ff;border: 1px dotted black;border-radius: 0.25em;box-sizing: border-box;margin-bottom: 0.5em;}#sk-container-id-1 div.sk-estimator:hover {background-color: #d4ebff;}#sk-container-id-1 div.sk-parallel-item::after {content: \"\";width: 100%;border-bottom: 1px solid gray;flex-grow: 1;}#sk-container-id-1 div.sk-label:hover label.sk-toggleable__label {background-color: #d4ebff;}#sk-container-id-1 div.sk-serial::before {content: \"\";position: absolute;border-left: 1px solid gray;box-sizing: border-box;top: 0;bottom: 0;left: 50%;z-index: 0;}#sk-container-id-1 div.sk-serial {display: flex;flex-direction: column;align-items: center;background-color: white;padding-right: 0.2em;padding-left: 0.2em;position: relative;}#sk-container-id-1 div.sk-item {position: relative;z-index: 1;}#sk-container-id-1 div.sk-parallel {display: flex;align-items: stretch;justify-content: center;background-color: white;position: relative;}#sk-container-id-1 div.sk-item::before, #sk-container-id-1 div.sk-parallel-item::before {content: \"\";position: absolute;border-left: 1px solid gray;box-sizing: border-box;top: 0;bottom: 0;left: 50%;z-index: -1;}#sk-container-id-1 div.sk-parallel-item {display: flex;flex-direction: column;z-index: 1;position: relative;background-color: white;}#sk-container-id-1 div.sk-parallel-item:first-child::after {align-self: flex-end;width: 50%;}#sk-container-id-1 div.sk-parallel-item:last-child::after {align-self: flex-start;width: 50%;}#sk-container-id-1 div.sk-parallel-item:only-child::after {width: 0;}#sk-container-id-1 div.sk-dashed-wrapped {border: 1px dashed gray;margin: 0 0.4em 0.5em 0.4em;box-sizing: border-box;padding-bottom: 0.4em;background-color: white;}#sk-container-id-1 div.sk-label label {font-family: monospace;font-weight: bold;display: inline-block;line-height: 1.2em;}#sk-container-id-1 div.sk-label-container {text-align: center;}#sk-container-id-1 div.sk-container {/* jupyter's `normalize.less` sets `[hidden] { display: none; }` but bootstrap.min.css set `[hidden] { display: none !important; }` so we also need the `!important` here to be able to override the default hidden behavior on the sphinx rendered scikit-learn.org. See: https://github.com/scikit-learn/scikit-learn/issues/21755 */display: inline-block !important;position: relative;}#sk-container-id-1 div.sk-text-repr-fallback {display: none;}</style><div id=\"sk-container-id-1\" class=\"sk-top-container\"><div class=\"sk-text-repr-fallback\"><pre>TPOTClassifier(generations=1, max_time_mins=5, population_size=1,\n",
       "               random_state=42)</pre><b>In a Jupyter environment, please rerun this cell to show the HTML representation or trust the notebook. <br />On GitHub, the HTML representation is unable to render, please try loading this page with nbviewer.org.</b></div><div class=\"sk-container\" hidden><div class=\"sk-item\"><div class=\"sk-estimator sk-toggleable\"><input class=\"sk-toggleable__control sk-hidden--visually\" id=\"sk-estimator-id-1\" type=\"checkbox\" checked><label for=\"sk-estimator-id-1\" class=\"sk-toggleable__label sk-toggleable__label-arrow\">TPOTClassifier</label><div class=\"sk-toggleable__content\"><pre>TPOTClassifier(generations=1, max_time_mins=5, population_size=1,\n",
       "               random_state=42)</pre></div></div></div></div></div>"
      ],
      "text/plain": [
       "TPOTClassifier(generations=1, max_time_mins=5, population_size=1,\n",
       "               random_state=42)"
      ]
     },
     "execution_count": 144,
     "metadata": {},
     "output_type": "execute_result"
    }
   ],
   "source": [
    "tpot = TPOTClassifier(generations=1, population_size=1, random_state=42, max_time_mins=5)\n",
    "tpot.fit(X_train, y_train)"
   ]
  },
  {
   "cell_type": "code",
   "execution_count": 145,
   "id": "e7e591b6",
   "metadata": {},
   "outputs": [],
   "source": [
    "X_test = new_df_test.iloc[:, new_df_test.columns != 'class'].values\n",
    "y_test = new_df_test.iloc[:, new_df_test.columns == 'class'].values.reshape(-1)"
   ]
  },
  {
   "cell_type": "code",
   "execution_count": 146,
   "id": "542dcd9b",
   "metadata": {},
   "outputs": [],
   "source": [
    "y_train__predict = tpot.predict(X_train)\n",
    "y_test__predict = tpot.predict(X_test)"
   ]
  },
  {
   "cell_type": "code",
   "execution_count": 147,
   "id": "65af1490",
   "metadata": {},
   "outputs": [
    {
     "data": {
      "text/plain": [
       "('Accuracy train data: 0.6357388316151202',\n",
       " 'Accuracy test data: 0.6357388316151202')"
      ]
     },
     "execution_count": 147,
     "metadata": {},
     "output_type": "execute_result"
    }
   ],
   "source": [
    "(\n",
    "    f'Accuracy train data: {accuracy_score(y_train, y_train__predict)}',\n",
    "    f'Accuracy test data: {accuracy_score(y_test, y_test__predict)}'\n",
    ")"
   ]
  },
  {
   "cell_type": "code",
   "execution_count": 148,
   "id": "fe7a25e9",
   "metadata": {},
   "outputs": [
    {
     "name": "stdout",
     "output_type": "stream",
     "text": [
      "[[[1534  212]\n",
      "  [ 534  339]]\n",
      "\n",
      " [[1073  673]\n",
      "  [ 194  679]]\n",
      "\n",
      " [[1677   69]\n",
      "  [ 226  647]]]\n"
     ]
    }
   ],
   "source": [
    "\n",
    "print(multilabel_confusion_matrix(y_test, y_test__predict))"
   ]
  },
  {
   "cell_type": "code",
   "execution_count": 149,
   "id": "77a26f83",
   "metadata": {},
   "outputs": [
    {
     "data": {
      "text/plain": [
       "<Figure size 576x432 with 0 Axes>"
      ]
     },
     "metadata": {},
     "output_type": "display_data"
    },
    {
     "data": {
      "image/png": "[encoded data removed]",
      "text/plain": [
       "<Figure size 432x288 with 2 Axes>"
      ]
     },
     "metadata": {
      "needs_background": "light"
     },
     "output_type": "display_data"
    }
   ],
   "source": [
    "print_cm(y_test, y_test__predict)"
   ]
  },
  {
   "cell_type": "code",
   "execution_count": 150,
   "id": "218c4013",
   "metadata": {
    "scrolled": true
   },
   "outputs": [
    {
     "name": "stdout",
     "output_type": "stream",
     "text": [
      "2025-05-25 23:06:55,595 - Topological features operation requires extra dependencies for time series forecasting, which are not installed. It can infuence the performance. Please install it by 'pip install fedot[extra]'\n",
      "2025-05-25 23:07:04,576 - ApiComposer - Initial pipeline was fitted in 8.9 sec.\n",
      "2025-05-25 23:07:04,577 - ApiComposer - Taking into account n_folds=5, estimated fit time for initial assumption is 44.6 sec.\n",
      "2025-05-25 23:07:04,578 - AssumptionsHandler - Preset was changed to fast_train due to fit time estimation for initial model.\n",
      "2025-05-25 23:07:04,585 - ApiComposer - AutoML configured. Parameters tuning: True. Time limit: 3 min. Set of candidate models: ['bernb', 'dt', 'knn', 'logit', 'normalization', 'pca', 'qda', 'rf', 'scaling'].\n",
      "2025-05-25 23:07:04,663 - ApiComposer - Timeout is too small for composing and is skipped because fit_time is 44.59257 sec.\n",
      "2025-05-25 23:07:04,691 - ApiComposer - Hyperparameters tuning started with 3 min. timeout\n",
      "2025-05-25 23:07:43,179 - SimultaneousTuner - Initial graph: {'depth': 3, 'length': 5, 'nodes': [logit, catboost, scaling, xgboost, lgbm]}\n",
      "logit - {}\n",
      "catboost - {'n_jobs': 12, 'num_trees': 3000, 'learning_rate': 0.03, 'l2_leaf_reg': 0.01, 'bootstrap_type': 'Bernoulli', 'grow_policy': 'SymmetricTree', 'max_depth': 5, 'min_data_in_leaf': 1, 'one_hot_max_size': 10, 'fold_permutation_block': 1, 'boosting_type': 'Plain', 'od_type': 'Iter', 'od_wait': 100, 'max_bin': 32, 'feature_border_type': 'GreedyLogSum', 'nan_mode': 'Min', 'verbose': False, 'allow_writing_files': False, 'use_eval_set': True, 'use_best_model': True, 'enable_categorical': True}\n",
      "scaling - {}\n",
      "xgboost - {'n_jobs': 12, 'verbosity': 0, 'booster': 'gbtree', 'tree_method': 'auto', 'enable_categorical': True, 'use_eval_set': True, 'early_stopping_rounds': 30}\n",
      "lgbm - {'boosting_type': 'gbdt', 'max_depth': -1, 'bagging_fraction': 0.85, 'extra_trees': False, 'enable_categorical': True, 'use_eval_set': True, 'early_stopping_rounds': 30, 'n_jobs': 12, 'verbose': -1} \n",
      "Initial metric: [0.977]\n",
      "  0%|                | 100/100000 [02:13<37:02:58,  1.34s/trial, best loss: inf]\n",
      "2025-05-25 23:09:57,946 - SimultaneousTuner - Final graph: {'depth': 3, 'length': 5, 'nodes': [logit, catboost, scaling, xgboost, lgbm]}\n",
      "logit - {}\n",
      "catboost - {'n_jobs': 12, 'num_trees': 3000, 'learning_rate': 0.03, 'l2_leaf_reg': 0.01, 'bootstrap_type': 'Bernoulli', 'grow_policy': 'SymmetricTree', 'max_depth': 5, 'min_data_in_leaf': 1, 'one_hot_max_size': 10, 'fold_permutation_block': 1, 'boosting_type': 'Plain', 'od_type': 'Iter', 'od_wait': 100, 'max_bin': 32, 'feature_border_type': 'GreedyLogSum', 'nan_mode': 'Min', 'verbose': False, 'allow_writing_files': False, 'use_eval_set': True, 'use_best_model': True, 'enable_categorical': True}\n",
      "scaling - {}\n",
      "xgboost - {'n_jobs': 12, 'verbosity': 0, 'booster': 'gbtree', 'tree_method': 'auto', 'enable_categorical': True, 'use_eval_set': True, 'early_stopping_rounds': 30}\n",
      "lgbm - {'boosting_type': 'gbdt', 'max_depth': -1, 'bagging_fraction': 0.85, 'extra_trees': False, 'enable_categorical': True, 'use_eval_set': True, 'early_stopping_rounds': 30, 'n_jobs': 12, 'verbose': -1}\n",
      "2025-05-25 23:09:57,947 - SimultaneousTuner - Final metric: 0.977\n",
      "2025-05-25 23:09:57,950 - ApiComposer - Hyperparameters tuning finished\n",
      "2025-05-25 23:09:58,076 - ApiComposer - Model generation finished\n",
      "2025-05-25 23:10:07,023 - FEDOT logger - Final pipeline was fitted\n",
      "2025-05-25 23:10:07,024 - FEDOT logger - Final pipeline: {'depth': 3, 'length': 5, 'nodes': [logit, catboost, scaling, xgboost, lgbm]}\n",
      "logit - {}\n",
      "catboost - {'n_jobs': 12, 'num_trees': 3000, 'learning_rate': 0.03, 'l2_leaf_reg': 0.01, 'bootstrap_type': 'Bernoulli', 'grow_policy': 'SymmetricTree', 'max_depth': 5, 'min_data_in_leaf': 1, 'one_hot_max_size': 10, 'fold_permutation_block': 1, 'boosting_type': 'Plain', 'od_type': 'Iter', 'od_wait': 100, 'max_bin': 32, 'feature_border_type': 'GreedyLogSum', 'nan_mode': 'Min', 'verbose': False, 'allow_writing_files': False, 'use_eval_set': True, 'use_best_model': True, 'enable_categorical': True}\n",
      "scaling - {}\n",
      "xgboost - {'n_jobs': 12, 'verbosity': 0, 'booster': 'gbtree', 'tree_method': 'auto', 'enable_categorical': True, 'use_eval_set': True, 'early_stopping_rounds': 30}\n",
      "lgbm - {'boosting_type': 'gbdt', 'max_depth': -1, 'bagging_fraction': 0.85, 'extra_trees': False, 'enable_categorical': True, 'use_eval_set': True, 'early_stopping_rounds': 30, 'n_jobs': 12, 'verbose': -1}\n"
     ]
    },
    {
     "data": {
      "text/plain": [
       "{'depth': 3, 'length': 5, 'nodes': [logit, catboost, scaling, xgboost, lgbm]}"
      ]
     },
     "execution_count": 150,
     "metadata": {},
     "output_type": "execute_result"
    }
   ],
   "source": [
    "fedot_model = Fedot(\n",
    "    problem='classification',\n",
    "    n_jobs=-1,\n",
    "    timeout=3\n",
    ")\n",
    "fedot_model.fit(X_train, y_train)"
   ]
  },
  {
   "cell_type": "code",
   "execution_count": 151,
   "id": "b8c40f2f",
   "metadata": {},
   "outputs": [],
   "source": [
    "y_train__predict = fedot_model.predict(X_train)\n",
    "y_test__predict = fedot_model.predict(X_test)"
   ]
  },
  {
   "cell_type": "code",
   "execution_count": 152,
   "id": "4243baf8",
   "metadata": {},
   "outputs": [
    {
     "data": {
      "text/plain": [
       "('Accuracy train data: 0.9851088201603666',\n",
       " 'Accuracy test data: 0.9851088201603666')"
      ]
     },
     "execution_count": 152,
     "metadata": {},
     "output_type": "execute_result"
    }
   ],
   "source": [
    "(\n",
    "    f'Accuracy train data: {accuracy_score(y_train, y_train__predict)}',\n",
    "    f'Accuracy test data: {accuracy_score(y_test, y_test__predict)}'\n",
    ")"
   ]
  },
  {
   "cell_type": "code",
   "execution_count": 153,
   "id": "601a2564",
   "metadata": {},
   "outputs": [
    {
     "name": "stdout",
     "output_type": "stream",
     "text": [
      "[[[1722   24]\n",
      "  [  14  859]]\n",
      "\n",
      " [[1735   11]\n",
      "  [  20  853]]\n",
      "\n",
      " [[1742    4]\n",
      "  [   5  868]]]\n"
     ]
    }
   ],
   "source": [
    "print(multilabel_confusion_matrix(y_test, y_test__predict))"
   ]
  },
  {
   "cell_type": "code",
   "execution_count": 154,
   "id": "8200c4d0",
   "metadata": {},
   "outputs": [
    {
     "data": {
      "text/plain": [
       "<Figure size 576x432 with 0 Axes>"
      ]
     },
     "metadata": {},
     "output_type": "display_data"
    },
    {
     "data": {
      "image/png": "[encoded data removed]",
      "text/plain": [
       "<Figure size 432x288 with 2 Axes>"
      ]
     },
     "metadata": {
      "needs_background": "light"
     },
     "output_type": "display_data"
    }
   ],
   "source": [
    "\n",
    "print_cm(y_test, y_test__predict)"
   ]
  }
 ],
 "metadata": {
  "kernelspec": {
   "display_name": "Python 3 (ipykernel)",
   "language": "python",
   "name": "python3"
  },
  "language_info": {
   "codemirror_mode": {
    "name": "ipython",
    "version": 3
   },
   "file_extension": ".py",
   "mimetype": "text/x-python",
   "name": "python",
   "nbconvert_exporter": "python",
   "pygments_lexer": "ipython3",
   "version": "3.8.10"
  }
 },
 "nbformat": 4,
 "nbformat_minor": 5
}
